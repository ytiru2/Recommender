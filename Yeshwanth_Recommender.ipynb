{
 "metadata": {
  "name": "",
  "signature": "sha256:9ac5e7a16ff85ea08554be31d249d75cd2eab1bb2b026e3e0828a541f7da0360"
 },
 "nbformat": 3,
 "nbformat_minor": 0,
 "worksheets": [
  {
   "cells": [
    {
     "cell_type": "code",
     "collapsed": false,
     "input": [
      "import pandas as pd\n",
      "import numpy as np"
     ],
     "language": "python",
     "metadata": {},
     "outputs": [],
     "prompt_number": 9
    },
    {
     "cell_type": "code",
     "collapsed": false,
     "input": [
      "M = pd.read_csv(\"MovieReviews1.csv\", index_col='Name')"
     ],
     "language": "python",
     "metadata": {},
     "outputs": [],
     "prompt_number": 10
    },
    {
     "cell_type": "code",
     "collapsed": false,
     "input": [
      "def pearson(s1, s2):\n",
      "    \"\"\"Take two pd.Series objects and return a pearson correlation.\"\"\"\n",
      "    s1_c = s1 - s1.mean()\n",
      "    s2_c = s2 - s2.mean()\n",
      "    return np.sum(s1_c * s2_c) / np.sqrt(np.sum(s1_c ** 2) * np.sum(s2_c ** 2))"
     ],
     "language": "python",
     "metadata": {},
     "outputs": [],
     "prompt_number": 11
    },
    {
     "cell_type": "code",
     "collapsed": false,
     "input": [
      "def get_recs(movie_name, M, num):\n",
      "\n",
      "    import numpy as np\n",
      "    reviews = []\n",
      "    for title in M.columns:\n",
      "        if title == movie_name:\n",
      "            continue\n",
      "        cor = pearson(M[movie_name], M[title])\n",
      "        if np.isnan(cor):\n",
      "            continue\n",
      "        else:\n",
      "            reviews.append((title, cor))\n",
      "    \n",
      "    reviews.sort(key=lambda tup: tup[1], reverse=True)\n",
      "    return reviews[:num]"
     ],
     "language": "python",
     "metadata": {},
     "outputs": [],
     "prompt_number": 12
    },
    {
     "cell_type": "code",
     "collapsed": false,
     "input": [
      "recs = get_recs('The Fault in Our Stars', M, 10)\n",
      "recs[:2]"
     ],
     "language": "python",
     "metadata": {},
     "outputs": [
      {
       "metadata": {},
       "output_type": "pyout",
       "prompt_number": 13,
       "text": [
        "[('Transformers', 0.44302664471422409),\n",
        " ('The Hunger Games: Mockingjay - Part 1', 0.35345113364519332)]"
       ]
      }
     ],
     "prompt_number": 13
    },
    {
     "cell_type": "code",
     "collapsed": false,
     "input": [
      "#HINTS...\n",
      "\n",
      "#the movies I've seen\n",
      "my_ratings = M.ix['Yeshwanth'].dropna()\n",
      "#the movie I've rated the highest\n",
      "my_ratings.sort(ascending=False)\n",
      "#the name of the movie I've rated the highest\n",
      "fav_movie = my_ratings.index[0]"
     ],
     "language": "python",
     "metadata": {},
     "outputs": [],
     "prompt_number": 14
    },
    {
     "cell_type": "code",
     "collapsed": false,
     "input": [
      "fav_movie"
     ],
     "language": "python",
     "metadata": {},
     "outputs": [
      {
       "metadata": {},
       "output_type": "pyout",
       "prompt_number": 15,
       "text": [
        "'How to Train your Dragon 2'"
       ]
      }
     ],
     "prompt_number": 15
    },
    {
     "cell_type": "code",
     "collapsed": false,
     "input": [
      "my_ratings"
     ],
     "language": "python",
     "metadata": {},
     "outputs": [
      {
       "metadata": {},
       "output_type": "pyout",
       "prompt_number": 16,
       "text": [
        "How to Train your Dragon 2    5\n",
        "Transformers                  5\n",
        "Godzilla                      4\n",
        "The Hobbit                    4\n",
        "Guardians of the Galaxy       4\n",
        "American Sniper               4\n",
        "300: Rise of an Empire        3\n",
        "Gone Girl                     3\n",
        "Name: Yeshwanth, dtype: float64"
       ]
      }
     ],
     "prompt_number": 16
    },
    {
     "cell_type": "code",
     "collapsed": false,
     "input": [
      "recs = get_recs(fav_movie, M, 5)"
     ],
     "language": "python",
     "metadata": {},
     "outputs": [],
     "prompt_number": 17
    },
    {
     "cell_type": "code",
     "collapsed": false,
     "input": [
      "recs[:5]"
     ],
     "language": "python",
     "metadata": {},
     "outputs": [
      {
       "metadata": {},
       "output_type": "pyout",
       "prompt_number": 18,
       "text": [
        "[('300: Rise of an Empire', 0.42647796681065958),\n",
        " ('The Hobbit', 0.34331611373101678),\n",
        " ('The Fault in Our Stars', 0.30235169495387021),\n",
        " ('Interstellar', 0.24390915914071479),\n",
        " ('Transformers', 0.21235686517638994)]"
       ]
      }
     ],
     "prompt_number": 18
    },
    {
     "cell_type": "code",
     "collapsed": false,
     "input": [
      "not_rated = M.ix['Yeshwanth']\n",
      "not_rated.sort()\n",
      "for i in range(0, not_rated.count(), 1):\n",
      "    not_rated.drop(not_rated.index[0], inplace=True)"
     ],
     "language": "python",
     "metadata": {},
     "outputs": [],
     "prompt_number": 20
    },
    {
     "cell_type": "code",
     "collapsed": false,
     "input": [
      "not_rated"
     ],
     "language": "python",
     "metadata": {},
     "outputs": [
      {
       "metadata": {},
       "output_type": "pyout",
       "prompt_number": 21,
       "text": [
        "The Hunger Games: Mockingjay - Part 1   NaN\n",
        "The Lego Movie                          NaN\n",
        "Malificent                              NaN\n",
        "Big Hero 6                              NaN\n",
        "Interstellar                            NaN\n",
        "Divergent                               NaN\n",
        "The Fault in Our Stars                  NaN\n",
        "Unbroken                                NaN\n",
        "Name: Yeshwanth, dtype: float64"
       ]
      }
     ],
     "prompt_number": 21
    },
    {
     "cell_type": "code",
     "collapsed": false,
     "input": [
      "M.shape"
     ],
     "language": "python",
     "metadata": {},
     "outputs": [
      {
       "metadata": {},
       "output_type": "pyout",
       "prompt_number": 27,
       "text": [
        "(24, 16)"
       ]
      }
     ],
     "prompt_number": 27
    },
    {
     "cell_type": "code",
     "collapsed": false,
     "input": [
      "print \"Pearson Correlation coefficient of :\"\n",
      "a= []\n",
      "for i in range(0, 23, 1): \n",
      "    cor=pearson(M.ix[23], M.ix[i])\n",
      "    print \"(\" + M.index[23] + \" , \" + M.index[i] + \") :\", cor\n",
      "    a.append(cor)"
     ],
     "language": "python",
     "metadata": {},
     "outputs": [
      {
       "output_type": "stream",
       "stream": "stdout",
       "text": [
        "Pearson Correlation coefficient of :\n",
        "(Yeshwanth , Mike) : 0.306970306757\n",
        "(Yeshwanth , HJ SONG) : 0.131784167848\n",
        "(Yeshwanth , Ryan Hansen) : 0.0345032779671\n",
        "(Yeshwanth , Olumuyiwa Durojaiye) : 0.428597307707\n",
        "(Yeshwanth , Charlie) : -0.131784167848\n",
        "(Yeshwanth , Sina Tuy) : -0.16060401861\n",
        "(Yeshwanth , Pavithra Shetty) : 0.452267016867\n",
        "(Yeshwanth , Sara Collins) : 0.0\n",
        "(Yeshwanth , Jonathan Doll) : -0.418330013267\n",
        "(Yeshwanth , saikiran reddy) : 0.417261480198\n",
        "(Yeshwanth , Aishwarya reddy) : -0.231455024943\n",
        "(Yeshwanth , Brant Mullinix) : -0.226133508433\n",
        "(Yeshwanth , Sai Sampath) : -0.231455024943\n",
        "(Yeshwanth , Suyendra) : -0.200903593858\n",
        "(Yeshwanth , Sai Yallapragada) : -0.125\n",
        "(Yeshwanth , Akhilesh) : 0.0324101861776\n",
        "(Yeshwanth , Sundar Prasad) : 0.612372435696\n",
        "(Yeshwanth , Evan Piercy) : 0.639009650423\n",
        "(Yeshwanth , Jessica Fong) : -0.182574185835\n",
        "(Yeshwanth , Onsiri Tapsarn) : nan\n",
        "(Yeshwanth , Anirudh Thota) : -0.1490711985\n",
        "(Yeshwanth , Greg Werner) : -0.225876975726\n",
        "(Yeshwanth , Violeta Lee Fay) : 0.433012701892\n"
       ]
      }
     ],
     "prompt_number": 33
    },
    {
     "cell_type": "code",
     "collapsed": false,
     "input": [
      "def pred_rate(x, a):\n",
      "    \"\"\"\n",
      "    Takes two parameters 'x' and 'a'. \n",
      "    Where 'x' a list of rates given by classmates. \n",
      "    'a' is a array that has corresponding pearson correlation coefficientreturn (weights for the given rates).\n",
      "    predicted rate is calculated as rate= (x[0]*a[0] + x[1]*a[1] +...+x[i]*a[i]) / (a[0]+a[1]+..+a[i]) \n",
      "    returns predicted rate \n",
      "    \"\"\"\n",
      "    j=0\n",
      "    k=0\n",
      "    for i in range(0, 23, 1): # as there are 23 rows(x.shape), range(0,23) \n",
      "        if x.irow(i)>0 and a[i]>0: \n",
      "            j= j+(a[i]*x.irow(i))\n",
      "            k= k+a[i]\n",
      "        else:\n",
      "            continue\n",
      "    return j/k"
     ],
     "language": "python",
     "metadata": {},
     "outputs": [],
     "prompt_number": 34
    },
    {
     "cell_type": "code",
     "collapsed": false,
     "input": [
      "print \"The ratings for the movie that I did not watch]:\"\n",
      "for i in range(0, 3, 1): # as there are 12 rows(not_rated.shape), range(0,12) \n",
      "    x=M[not_rated.index[i]]\n",
      "    rate=pred_rate(x, a)\n",
      "    print not_rated.index[i] +\": \", rate.round(1)"
     ],
     "language": "python",
     "metadata": {},
     "outputs": [
      {
       "output_type": "stream",
       "stream": "stdout",
       "text": [
        "The ratings for the movie that I did not watch]:\n",
        "The Hunger Games: Mockingjay - Part 1:  3.3\n",
        "The Lego Movie:  3.9\n",
        "Malificent:  3.5\n"
       ]
      }
     ],
     "prompt_number": 35
    },
    {
     "cell_type": "code",
     "collapsed": false,
     "input": [],
     "language": "python",
     "metadata": {},
     "outputs": []
    }
   ],
   "metadata": {}
  }
 ]
}